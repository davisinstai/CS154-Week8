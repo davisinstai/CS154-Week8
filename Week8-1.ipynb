{
 "cells": [
  {
   "cell_type": "markdown",
   "id": "a42006a6",
   "metadata": {},
   "source": [
    "# The Key Terms for Monday\n",
    "\n",
    "* class\n",
    "* object\n",
    "* method\n",
    "* attribute\n",
    "* constructor"
   ]
  },
  {
   "cell_type": "markdown",
   "id": "2b6c8706",
   "metadata": {},
   "source": [
    "## Classes and objects\n",
    "\n",
    "Object-oriented programming (OOP) allows us to encapsulate functions relevant to manipulating a particular data structure. \n",
    "\n",
    "Object-oriented programming relies on the concepts of:\n",
    "\n",
    "* **classes**\n",
    "* **objects**\n",
    "\n",
    "A class defines a set of variables and functions that together describe a data structure. A class may define:\n",
    "\n",
    "* **attributes** - variables (with values)\n",
    "* **methods** - functions\n",
    "\n",
    "An object is an *instance* of a class. It will have all the attributes specified in the class definition, and will have access to all the class methods."
   ]
  },
  {
   "cell_type": "markdown",
   "id": "bd4e07ce",
   "metadata": {},
   "source": [
    "## An Analogy\n",
    "\n",
    "We are all familiar with the notion of species, right?\n",
    "\n",
    "In general:\n",
    "\n",
    "* what does a bird *have*? (its attributes)\n",
    "* what can a bird *do*? (its methods)\n",
    "\n",
    "How about:\n",
    "\n",
    "* what does a tree *have*? (its attributes)\n",
    "* what can a tree *do*? (its methods)"
   ]
  },
  {
   "cell_type": "markdown",
   "id": "f4851159",
   "metadata": {},
   "source": [
    "## Methods\n",
    "\n",
    "Now we can explain why some functions have to have a string/list/dictionary to be callable. Compare:\n",
    "\n",
    "* `len(str)`\n",
    "* `str.lower()`\n",
    "\n",
    "The first is a *function* and can operate on many types of thing. The second is a string *method*; it's a function that is limited to strings."
   ]
  },
  {
   "cell_type": "markdown",
   "id": "024279f3",
   "metadata": {},
   "source": [
    "## Classes we know in python\n",
    "\n",
    "Here are some classes in python:\n",
    "\n",
    "* list\n",
    "* set\n",
    "* dictionary\n",
    "* string\n",
    "\n",
    "And here are some classes in spaCy:\n",
    "\n",
    "* token\n",
    "* entity\n",
    "* document\n",
    "* NLP engine"
   ]
  },
  {
   "cell_type": "markdown",
   "id": "fc400e05",
   "metadata": {},
   "source": [
    "## Creating a Class in Python\n",
    "\n",
    "Let's write some codes to create a class for a **corpus**."
   ]
  },
  {
   "cell_type": "code",
   "execution_count": 1,
   "id": "fe0ae60c",
   "metadata": {},
   "outputs": [],
   "source": [
    "# Create a class named 'corpus'\n",
    "class corpus:\n",
    "    \"\"\"A simple class that models a corpus\"\"\"\n",
    "    \n",
    "    # This is the class constructor\n",
    "    # self is always the object\n",
    "    def __init__(self, list_of_documents): \n",
    "        \"\"\"Initialize any new instances of class corpus with the following attributes\"\"\"\n",
    "        # documents is a class attribute\n",
    "        # maybe a list isn't the best way to store a corpus; maybe we should make a dictionary. Hmm, let's think about that!\n",
    "        self.documents = list_of_documents      \n",
    "    \n",
    "    # This is a class method, so it has to take self as a parameter. When we call it on a corpus object (say, my_corpus), we will call my_corpus.size()\n",
    "    def size(self): \n",
    "        \"\"\"Calculates the size of the corpus\"\"\"\n",
    "        return len(self.documents)"
   ]
  },
  {
   "cell_type": "markdown",
   "id": "c637d06b",
   "metadata": {},
   "source": [
    "\n",
    "We start a class definition with the word `class`, then the class name, then ':'. If you are using `camelCase` then your class names should start with a capital letter. If you aren't, they should not."
   ]
  },
  {
   "cell_type": "markdown",
   "id": "f9097cf4",
   "metadata": {},
   "source": [
    "Every class definition includes the definition of a class **constructor**, a special function called `__init__` that defines the attributes for the instances of the class. (Make sure to always use two underscores before and after.) The `__init__` function *initializes* the objects of a class. It determines what attributes will be initialized when an instance of the class is created. The first parameter for `__init__` must be `self`. Then we can define any number of additional parameters.\n",
    "\n",
    "In our `__init__` function, we then set a number of **instance variables** with prefixed with `self.`. This makes them available for each object. *What instance variables do we define above?*"
   ]
  },
  {
   "cell_type": "markdown",
   "id": "b78e6871",
   "metadata": {},
   "source": [
    "Finally, we define one or more class **methods**. Each class method includes the parameter `self`. We can call a method with dot notation on a particular object of the class. \n",
    "\n",
    "When we refer to an attribute in a method, we use `self.` to access the attribute."
   ]
  },
  {
   "cell_type": "markdown",
   "id": "7e626beb",
   "metadata": {},
   "source": [
    "We create a particular **instance** of the `House` class by using an assignment statement. We call the `House` class like a function and pass in the corresponding required arguments that match the parameters in the `House` definition. Note: The `self` parameter is ignored. The first argument passed will be `bedroom`, then `bathroom`, etc."
   ]
  },
  {
   "cell_type": "code",
   "execution_count": null,
   "id": "bf37e870",
   "metadata": {},
   "outputs": [],
   "source": [
    "# Create an object house1\n",
    "# Each argument corresponds to an attribute: \n",
    "# bedroom, bathroom, price, sqft\n",
    "\n",
    "house1 = House(3, 1.5, 600000, 1500) "
   ]
  },
  {
   "cell_type": "markdown",
   "id": "81e132fb",
   "metadata": {},
   "source": [
    "We can access the attributes of `house1` using dot notation. Since these are attributes (kind of like object properties), they do not require parentheses `()` at the end."
   ]
  },
  {
   "cell_type": "code",
   "execution_count": null,
   "id": "cf4419bf",
   "metadata": {},
   "outputs": [],
   "source": [
    "# Get the value of the attribute bedroom of house1\n",
    "house1.bedroom"
   ]
  },
  {
   "cell_type": "code",
   "execution_count": null,
   "id": "9fdb94c2",
   "metadata": {},
   "outputs": [],
   "source": [
    "# Get the value of the attribute bathroom of house1\n",
    "house1.bathroom"
   ]
  },
  {
   "cell_type": "code",
   "execution_count": null,
   "id": "ece0c3ee",
   "metadata": {},
   "outputs": [],
   "source": [
    "# Get the value of the attribute price of house1\n",
    "house1.price"
   ]
  },
  {
   "cell_type": "code",
   "execution_count": null,
   "id": "cc59b721",
   "metadata": {},
   "outputs": [],
   "source": [
    "# Get the value of the attribute sqft of house1\n",
    "house1.sqft"
   ]
  },
  {
   "cell_type": "markdown",
   "id": "e5d23afd",
   "metadata": {},
   "source": [
    "We can also access the `.price_per_sqft()` method using dot notation. A method is a function and can require parameters, so it always includes parentheses (even if no argument is passed)."
   ]
  },
  {
   "cell_type": "code",
   "execution_count": null,
   "id": "2b7a9e93",
   "metadata": {},
   "outputs": [],
   "source": [
    "# Use the method price_per_sqft of house1\n",
    "house1.price_per_sqft()"
   ]
  },
  {
   "cell_type": "code",
   "execution_count": null,
   "id": "a691128a",
   "metadata": {},
   "outputs": [],
   "source": [
    "# Create an object house2\n",
    "house2 = House(4, 2, 800000, 2000)"
   ]
  },
  {
   "cell_type": "code",
   "execution_count": null,
   "id": "d9eeb8c5",
   "metadata": {
    "scrolled": true
   },
   "outputs": [],
   "source": [
    "# Get the value of the attribute bedroom of house2\n",
    "house2.bedroom"
   ]
  },
  {
   "cell_type": "markdown",
   "id": "8096687a",
   "metadata": {},
   "source": [
    "### Modifying an instance attribute"
   ]
  },
  {
   "cell_type": "code",
   "execution_count": null,
   "id": "43699894",
   "metadata": {},
   "outputs": [],
   "source": [
    "# Modify an existing instance attribute by assigning a new value\n",
    "house1.price = 700000\n",
    "house1.price"
   ]
  },
  {
   "cell_type": "markdown",
   "id": "9d36e74d",
   "metadata": {},
   "source": [
    "We can also add a new attribute to an existing instance, even if the attribute was not defined in the class's constructor (the `__init__` definition)."
   ]
  },
  {
   "cell_type": "code",
   "execution_count": null,
   "id": "109d34f9",
   "metadata": {},
   "outputs": [],
   "source": [
    "# Create a new instance attribute and assign a value to it\n",
    "house1.lot_size = 3000\n",
    "house1.lot_size"
   ]
  },
  {
   "cell_type": "markdown",
   "id": "49cc84b7",
   "metadata": {},
   "source": [
    "But it will only be available for that instance and not any other instances of the class."
   ]
  },
  {
   "cell_type": "code",
   "execution_count": null,
   "id": "38962871",
   "metadata": {
    "scrolled": true
   },
   "outputs": [],
   "source": [
    "# The instance attribute is specific to the object house1\n",
    "# house2 was not initialized with a `lot_size` attribute\n",
    "house2.lot_size"
   ]
  },
  {
   "cell_type": "markdown",
   "id": "ce8d0bb4",
   "metadata": {},
   "source": [
    "If there is a property that you want to store in an instance attribute, but not every house has a value for that property (due to missing information, for instance), you could set the default value to a null value `None`. For those houses which have a non-null value for that property, the value you pass in will override the null value. "
   ]
  },
  {
   "cell_type": "code",
   "execution_count": null,
   "id": "30fc9850",
   "metadata": {},
   "outputs": [],
   "source": [
    "# Create a class House with lot_size set to None by default\n",
    "class House:\n",
    "    \"\"\"A simple class that models a house\"\"\"\n",
    "    \n",
    "    def __init__(self, bedroom, bathroom, price, sqft, lot_size = None): ## constructor\n",
    "        \"\"\"Initialize any new instances of class House with the following attributes\"\"\"\n",
    "        self.bedroom = bedroom      ## instance attribute\n",
    "        self.bathroom = bathroom    ## instance attribute\n",
    "        self.price = price          ## instance attribute\n",
    "        self.sqft = sqft            ## instance attribute\n",
    "        self.lot_size = lot_size    ## instance attribute\n",
    "        \n",
    "    def price_per_sqft(self): ## Method\n",
    "        \"\"\"Calculates the price per square foot based on price and square footage\"\"\"\n",
    "        price_per_sqft = self.price / self.sqft\n",
    "        return price_per_sqft"
   ]
  },
  {
   "cell_type": "code",
   "execution_count": null,
   "id": "4e818f97",
   "metadata": {},
   "outputs": [],
   "source": [
    "# Create an object house1\n",
    "house1 = House(3, 1.5, 600000, 1500) "
   ]
  },
  {
   "cell_type": "code",
   "execution_count": null,
   "id": "6ebc0ba5",
   "metadata": {},
   "outputs": [],
   "source": [
    "# Access the value of the instance attribute lot_size of house1\n",
    "house1.lot_size"
   ]
  },
  {
   "cell_type": "code",
   "execution_count": null,
   "id": "1e2c4b50",
   "metadata": {},
   "outputs": [],
   "source": [
    "# Create an object house2\n",
    "house2 = House(4, 2, 800000, 2000, 3000)"
   ]
  },
  {
   "cell_type": "code",
   "execution_count": null,
   "id": "047c81e9",
   "metadata": {},
   "outputs": [],
   "source": [
    "# Access the value of the instance attribute lot_size of house2\n",
    "house2.lot_size"
   ]
  },
  {
   "cell_type": "markdown",
   "id": "d0f76804",
   "metadata": {},
   "source": [
    "<h3 style=\"color:red; display:inline\">Coding Challenge! &lt; / &gt; </h3>\n",
    "\n",
    "Create a class called `Employee`. In this class, create the instance variables `first_name`, `last_name`, `salary` and `email`. Also, create a method that prints out the full name of instances of this class. Then, create two instances of this class. "
   ]
  },
  {
   "cell_type": "code",
   "execution_count": null,
   "id": "ac003085",
   "metadata": {},
   "outputs": [],
   "source": [
    "# Create a new class called Employee\n"
   ]
  },
  {
   "cell_type": "code",
   "execution_count": null,
   "id": "9f0a2f71",
   "metadata": {},
   "outputs": [],
   "source": [
    "# Create two instances of the class Employee\n"
   ]
  },
  {
   "cell_type": "markdown",
   "id": "dee48f2e",
   "metadata": {},
   "source": [
    "### Instance attribute vs. class attribute\n",
    "\n",
    "In the class `House`, we have defined several **instance attributes** like bedroom, bathroom, price and sqft. We can also define **class attributes**. **Instance attributes** are the attributes of an instance of a class. **Class attributes** are the attributes of a class. Let's use our class `House` to illustrate.\n",
    "\n",
    "Suppose the houses you are interested in have all dropped their prices by 5%. You want to revise the `House` class you have created slightly so that you are able to calculate the new house prices."
   ]
  },
  {
   "cell_type": "code",
   "execution_count": null,
   "id": "a77f3b55",
   "metadata": {},
   "outputs": [],
   "source": [
    "# Define a new class attribute and write a new method in the class House to calculate new house prices\n",
    "class House:\n",
    "    \"\"\"A simple class that models a house\"\"\"\n",
    "    \n",
    "    pct_change = -0.05   ## class attribute\n",
    "    \n",
    "    def __init__(self, bedroom, bathroom, price, sqft): ## constructor\n",
    "        \"\"\"Initialize any new instances of class House with the following attributes\"\"\"\n",
    "        self.bedroom = bedroom      ## instance attribute\n",
    "        self.bathroom = bathroom    ## instance attribute\n",
    "        self.price = price          ## instance attribute\n",
    "        self.sqft = sqft            ## instance attribute\n",
    "        \n",
    "    def price_per_sqft(self): ## method\n",
    "        \"\"\"Calculates the price per square foot based on price and square footage\"\"\"\n",
    "        price_per_sqft = self.price / self.sqft\n",
    "        return price_per_sqft\n",
    "    \n",
    "    def new_price(self): ## method\n",
    "        \"\"\"Calculates the new house price based on the class variable perc_change\"\"\"\n",
    "        new_price = self.price * (1 + House.pct_change)\n",
    "        return new_price"
   ]
  },
  {
   "cell_type": "code",
   "execution_count": null,
   "id": "e55151fc",
   "metadata": {},
   "outputs": [],
   "source": [
    "# Create an object house1 and use the new method\n",
    "house1 = House(3, 1.5, 600000, 1500) \n",
    "house1.new_price()"
   ]
  },
  {
   "cell_type": "markdown",
   "id": "76f67061",
   "metadata": {},
   "source": [
    "Differences between **instance attributes** and **class attributes**: \n",
    "* **Instance attributes** are defined in the `__init__` function. **Class attributes** are defined outside of it.\n",
    "* The values of **instance attributes** are possibily different for each instance of a class. However, the values of **class attributes** are shared by all the instances of a class.  "
   ]
  },
  {
   "cell_type": "markdown",
   "id": "ccb908a3",
   "metadata": {},
   "source": [
    "If you change the value of a **class attribute**, it will affect all instances of that class. If you change the value of an **instance attribute**, it will only affect that one instance. "
   ]
  },
  {
   "cell_type": "code",
   "execution_count": null,
   "id": "b3f3f9b8",
   "metadata": {},
   "outputs": [],
   "source": [
    "# Access the class attribute using the instance house1\n",
    "house1.pct_change"
   ]
  },
  {
   "cell_type": "code",
   "execution_count": null,
   "id": "e6701e5a",
   "metadata": {},
   "outputs": [],
   "source": [
    "# Access the class attribute using the instance house2\n",
    "house2 = House(4, 2, 800000, 2000)\n",
    "house2.pct_change"
   ]
  },
  {
   "cell_type": "code",
   "execution_count": null,
   "id": "4aa8bd4a",
   "metadata": {},
   "outputs": [],
   "source": [
    "# Change the class attribute pct_change to -0.06\n",
    "House.pct_change = -0.06"
   ]
  },
  {
   "cell_type": "code",
   "execution_count": null,
   "id": "6931fcdd",
   "metadata": {},
   "outputs": [],
   "source": [
    "# Access the class attribute pct_change again using house1\n",
    "house1.pct_change"
   ]
  },
  {
   "cell_type": "code",
   "execution_count": null,
   "id": "68b0f44e",
   "metadata": {},
   "outputs": [],
   "source": [
    "# Access the class attribute pct_change again using house2\n",
    "house2.pct_change"
   ]
  },
  {
   "cell_type": "markdown",
   "id": "07fefb32",
   "metadata": {},
   "source": [
    "<h3 style=\"color:red; display:inline\">Coding Challenge! &lt; / &gt; </h3>\n",
    "\n",
    "The company has just announced a pay raise. Everyone will get a pay raise of 8%. Add a class variable `pay_raise` to the class `Employee`. For the two instances you created just now, create a new method that will calculate their new pay."
   ]
  },
  {
   "cell_type": "code",
   "execution_count": null,
   "id": "b9e99bf9",
   "metadata": {},
   "outputs": [],
   "source": [
    "# Create a new method for the class Employee\n",
    "# The method will calculate a 8% raise for each employee\n"
   ]
  },
  {
   "cell_type": "markdown",
   "id": "b3622232",
   "metadata": {},
   "source": [
    "### Instance method vs. class method"
   ]
  },
  {
   "cell_type": "markdown",
   "id": "cad6f97d",
   "metadata": {},
   "source": [
    "**Instance method** receives the instance of the class as the first argument, which is called `self` by convention. Using the `self` parameter, we can access the instance attributes of an object and change the object state by changing the values assigned to the instance variables.\n",
    "\n",
    "We have both **instance attribute** and **class attribute**. Do we have **class method** apart from **instance method**? The answer is yes. "
   ]
  },
  {
   "cell_type": "markdown",
   "id": "129e628b",
   "metadata": {},
   "source": [
    "In Python, the `@classmethod` decorator is used to declare a method in the class as a **class method** that can be called using `ClassName.MethodName()`."
   ]
  },
  {
   "cell_type": "code",
   "execution_count": null,
   "id": "a8189e3d",
   "metadata": {},
   "outputs": [],
   "source": [
    "class House:\n",
    "    \"\"\"A simple class that models a house\"\"\"\n",
    "    \n",
    "    pct_change = -0.05   ## class attribute\n",
    "    \n",
    "    def __init__(self, bedroom, bathroom, price, sqft): ## constructor\n",
    "        \"\"\"Initialize any new instances of class House with the following attributes\"\"\"\n",
    "        self.bedroom = bedroom      ## instance attribute\n",
    "        self.bathroom = bathroom    ## instance attribute\n",
    "        self.price = price          ## instance attribute\n",
    "        self.sqft = sqft            ## instance attribute\n",
    "        \n",
    "    def price_per_sqft(self): ## instance method\n",
    "        \"\"\"Calculates the price per square foot based on price and square footage\"\"\"\n",
    "        price_per_sqft = self.price / self.sqft\n",
    "        return price_per_sqft\n",
    "    \n",
    "    def new_price (self): ## instance method\n",
    "        \"\"\"Calculates the new house price based on the class variable perc_raise\"\"\"\n",
    "        new_price = self.price * (1 + House.pct_change)\n",
    "        return new_price\n",
    "    \n",
    "    @classmethod ## Add a decorator on the top of the class method\n",
    "    def update_pct_change(cls, pct):  ## class method    \n",
    "        cls.pct_change = pct    "
   ]
  },
  {
   "cell_type": "markdown",
   "id": "3b8a205f",
   "metadata": {},
   "source": [
    "You don't need to create any instance of a class to access its class methods. "
   ]
  },
  {
   "cell_type": "code",
   "execution_count": null,
   "id": "ed18d623",
   "metadata": {},
   "outputs": [],
   "source": [
    "# Use the class method to update the percent of price change\n",
    "House.update_pct_change(-0.08)"
   ]
  },
  {
   "cell_type": "markdown",
   "id": "d89a3d90",
   "metadata": {},
   "source": [
    "Again, changing the value of a class attribute affects all the instances. "
   ]
  },
  {
   "cell_type": "code",
   "execution_count": null,
   "id": "48ffafcc",
   "metadata": {},
   "outputs": [],
   "source": [
    "# Create house1 and house2 using this new class\n",
    "house1 = House(3, 1.5, 600000, 1500) \n",
    "house2 = House(4, 2, 800000, 2000)"
   ]
  },
  {
   "cell_type": "code",
   "execution_count": null,
   "id": "6d8c0b07",
   "metadata": {},
   "outputs": [],
   "source": [
    "# Access the class attribute after the update using instance house1\n",
    "house1.pct_change"
   ]
  },
  {
   "cell_type": "code",
   "execution_count": null,
   "id": "ed3f81bc",
   "metadata": {},
   "outputs": [],
   "source": [
    "# Access the class attribute after the update using instance house2\n",
    "house2.pct_change"
   ]
  },
  {
   "cell_type": "markdown",
   "id": "be6ee008",
   "metadata": {},
   "source": [
    "## A perspective shift from functional programming to OOP\n",
    "\n",
    "In a class, we have some data and some functions that operate on those data. So, why don't we just store the data in some format and write functions separately?"
   ]
  },
  {
   "cell_type": "code",
   "execution_count": null,
   "id": "f585a514",
   "metadata": {},
   "outputs": [],
   "source": [
    "# Define a string s\n",
    "s = 'John'"
   ]
  },
  {
   "cell_type": "code",
   "execution_count": null,
   "id": "7bae501a",
   "metadata": {},
   "outputs": [],
   "source": [
    "# Create a function that checks the first letter in a string\n",
    "def startswith(s, letter): # A function that checks whether a string starts with a certain letter\n",
    "    \"\"\"Takes a string and a letter and outputs True/False\n",
    "    depending on whether the string starts with the letter.\"\"\"\n",
    "    if s[0] == letter:\n",
    "        return True\n",
    "    return False"
   ]
  },
  {
   "cell_type": "code",
   "execution_count": null,
   "id": "1c9f625b",
   "metadata": {},
   "outputs": [],
   "source": [
    "# Use the function startswith to check whether 'John' starts with letter 'J'\n",
    "startswith('John', 'J')"
   ]
  },
  {
   "cell_type": "code",
   "execution_count": null,
   "id": "5be6a9de",
   "metadata": {},
   "outputs": [],
   "source": [
    "# Create a function that checks whether a string ends with a certain letter\n",
    "def endswith(s, letter): \n",
    "    \"\"\"Takes a string and a letter and outputs True/False\n",
    "    depending on whether the string ends with the letter.\"\"\"\n",
    "    if s[-1] == letter:\n",
    "        return True\n",
    "    return False"
   ]
  },
  {
   "cell_type": "code",
   "execution_count": null,
   "id": "92564f01",
   "metadata": {},
   "outputs": [],
   "source": [
    "# Use the function endswith to check whether 'John' ends with letter 'J'\n",
    "endswith('John', 'J')"
   ]
  },
  {
   "cell_type": "markdown",
   "id": "da02e86e",
   "metadata": {},
   "source": [
    "From the perspective of functional programming, we are putting the functions at the center stage. Here we put the functions `startswith` and `endswith` at the center stage in particular. The strings, e.g. `s1` and `s2`, are the input to the functions. "
   ]
  },
  {
   "cell_type": "markdown",
   "id": "c9e65d9c",
   "metadata": {},
   "source": [
    "<img src=\"https://ithaka-labs.s3.amazonaws.com/static-files/images/tdm/tdmdocs/intermediate_python_4_FP.png\" width=\"400\" height=\"150\" />"
   ]
  },
  {
   "cell_type": "markdown",
   "id": "1c4b6cb9",
   "metadata": {},
   "source": [
    "Since these two operations are so common with strings, it would be great if we have them always ready to use when we have a string. So, let's shift our perspective and put the strings at the center stage. Here, `s1` and `s2` are not passively waiting to be taken by functions as input. Instead, they are active `objects`. The functions that we wrote before, `startswith` and `endswith`, are now the tools that `s1` and `s2` can use. This is the perspective of OOP. "
   ]
  },
  {
   "cell_type": "markdown",
   "id": "58785d3b",
   "metadata": {},
   "source": [
    "<img src=\"https://ithaka-labs.s3.amazonaws.com/static-files/images/tdm/tdmdocs/intermediate_python_4_OOP.png\" width=\"400\" height=\"150\" />\n"
   ]
  },
  {
   "cell_type": "code",
   "execution_count": null,
   "id": "e8bdb6d3",
   "metadata": {},
   "outputs": [],
   "source": [
    "# Treating 'John' as an object and using the .startswith() method\n",
    "'John'.startswith('J')"
   ]
  },
  {
   "cell_type": "code",
   "execution_count": null,
   "id": "e818e7bc",
   "metadata": {},
   "outputs": [],
   "source": [
    "# Treating 'John' as an object and using the .endswith() method\n",
    "'John'.endswith('J')"
   ]
  },
  {
   "cell_type": "markdown",
   "id": "79fd83b3",
   "metadata": {},
   "source": [
    "You may not be aware of it, but you have been working with classes all the time! Did you notice that I did not create a class `string` and write the methods `startswith` and `endswith` myself, but somehow I can use them in the examples? That's because Python already did it for us! "
   ]
  },
  {
   "cell_type": "code",
   "execution_count": null,
   "id": "ae55d88d",
   "metadata": {},
   "outputs": [],
   "source": [
    "# Print out the type of the string 'John'\n",
    "print(type('John'))"
   ]
  },
  {
   "cell_type": "code",
   "execution_count": null,
   "id": "30db123a",
   "metadata": {},
   "outputs": [],
   "source": [
    "# Use the help function to check the attributes and methods for the string class\n",
    "help(str)"
   ]
  },
  {
   "cell_type": "markdown",
   "id": "4b7017de",
   "metadata": {},
   "source": [
    "The same with lists. When you create a list in Python, you create a list object. "
   ]
  },
  {
   "cell_type": "code",
   "execution_count": null,
   "id": "7149c262",
   "metadata": {},
   "outputs": [],
   "source": [
    "ls = [1, 2, 3]\n",
    "print(type(ls))"
   ]
  },
  {
   "cell_type": "code",
   "execution_count": null,
   "id": "b1b7f8c0",
   "metadata": {},
   "outputs": [],
   "source": [
    "# Use the remove method of the list class\n",
    "ls.remove(3)\n",
    "ls"
   ]
  },
  {
   "cell_type": "markdown",
   "id": "27c7adf1",
   "metadata": {},
   "source": [
    "## Inheritance"
   ]
  },
  {
   "cell_type": "markdown",
   "id": "006aa644",
   "metadata": {},
   "source": [
    "We have seen how OOP can help quickly create instances of objects. Another significant benefit of OOP is the opportunity to use **inheritance**. \n",
    "\n",
    "Suppose in the process of house hunting, you find houses in suburbs and houses in the city both have advantages and disadvantages. Now, you are interested in the commute expenses you have to pay if you choose a house in the suburbs or a house in the city. You want to add this information to your house data and at the same time maintain the attributes and methods you have written in the `House` class. How can you do it? This is where **inheritance** comes in. \n",
    "\n",
    "**Inheritance** in OOP allows us to inherit attributes and methods from a **parent class** to **child classes**. What makes OOP particularly attractive is exactly this reusability! **Inheritance** helps us avoid repeating ourselves when writing code. "
   ]
  },
  {
   "cell_type": "code",
   "execution_count": null,
   "id": "373cbb4d",
   "metadata": {},
   "outputs": [],
   "source": [
    "class SuburbanHouse(House):\n",
    "    \"\"\"A child class that inherits from House for modeling suburban houses\"\"\"\n",
    "    \n",
    "    def __init__(self, bedroom, bathroom, price, sqft, distance): # constructor\n",
    "        \"\"\"Initialize all the attributes for a suburban house\"\"\"\n",
    "        super().__init__(bedroom, bathroom, price, sqft) # let the parent class take care of the existing attributes\n",
    "        self.distance = distance # add the new instance attribute\n",
    "    \n",
    "    def gas_expenses(self): # add the new method\n",
    "        \"\"\"Take the distance and calculate a monthly fuel expense\"\"\"\n",
    "        expense = 0.5 * self.distance * 2 * 22 # assume $0.5/mile for the gas\n",
    "        return expense"
   ]
  },
  {
   "cell_type": "markdown",
   "id": "4617bab7",
   "metadata": {},
   "source": [
    "When we define the `SuburbanHouse` class, we add the `House` class as a parameter:\n",
    "```\n",
    "class SuburbanHouse(House):\n",
    "```\n",
    "This tells Python to inherit all the attributes and methods from the `House` class. In our `SuburbanHouse` constructor, we include the class attributes from the `House` class along with a new `distance` attribute that will be unique to the `SuburbanHouse` class.\n",
    "\n",
    "The `super().__init__()` constructor informs Python of the attributes to pull from the `House` class. Then we are free to define additional child class attributes, in this case `self.distance`.\n",
    "\n",
    "Finally, we also add a `.gas_expenses()` method that will only be available to `SuburbanHouse` objects but not regular `House` objects."
   ]
  },
  {
   "cell_type": "code",
   "execution_count": null,
   "id": "e748d245",
   "metadata": {},
   "outputs": [],
   "source": [
    "# Create an object of the new class SuburbanHouse\n",
    "house3 = SuburbanHouse(4, 3.5, 900000, 2500, 20) "
   ]
  },
  {
   "cell_type": "code",
   "execution_count": null,
   "id": "4378e026",
   "metadata": {},
   "outputs": [],
   "source": [
    "# Use the attributes of the parent class\n",
    "house3.bedroom"
   ]
  },
  {
   "cell_type": "code",
   "execution_count": null,
   "id": "0ec3f7ea",
   "metadata": {},
   "outputs": [],
   "source": [
    "# Use the methods of the parent class\n",
    "house3.price_per_sqft()"
   ]
  },
  {
   "cell_type": "code",
   "execution_count": null,
   "id": "ee8169d4",
   "metadata": {},
   "outputs": [],
   "source": [
    "# Use the new instance attribute\n",
    "house3.distance"
   ]
  },
  {
   "cell_type": "code",
   "execution_count": null,
   "id": "e9e25c80",
   "metadata": {
    "scrolled": true
   },
   "outputs": [],
   "source": [
    "# Use the new instance method\n",
    "house3.gas_expenses()"
   ]
  },
  {
   "cell_type": "markdown",
   "id": "993569e7",
   "metadata": {},
   "source": [
    "Now imagine we are also considering a house in the city. We could use a train to commute instead. It would help to calculate whether the commute will be cheaper. We will create a new child class: `CityHouse` which has the method `train_expenses()`."
   ]
  },
  {
   "cell_type": "code",
   "execution_count": null,
   "id": "43da9d73",
   "metadata": {},
   "outputs": [],
   "source": [
    "class CityHouse(House):\n",
    "    \"\"\"A child class that inherits from House for modeling city houses\"\"\"\n",
    "    \n",
    "    def __init__(self, bedroom, bathroom, price, sqft, train_stops): ## constructor\n",
    "        \"\"\"Initialize all the attributes for a city house\"\"\"\n",
    "        super().__init__(bedroom, bathroom, price, sqft) # let the parent class take care of the existing attributes\n",
    "        self.train_stops = train_stops # add the new instance attribute\n",
    "    \n",
    "    def train_expenses(self):\n",
    "        \"\"\"Take the number of stops to job and calculate a monthly commute cost\"\"\"\n",
    "        expense = 1.5 * self.train_stops * 2 * 22 # assume $1.50/stop for the train\n",
    "        return expense"
   ]
  },
  {
   "cell_type": "code",
   "execution_count": null,
   "id": "862860a4",
   "metadata": {},
   "outputs": [],
   "source": [
    "# Create an object of the new class City_house\n",
    "house4 = CityHouse(3, 2, 1000000, 1200, 10)"
   ]
  },
  {
   "cell_type": "code",
   "execution_count": null,
   "id": "59346fcc",
   "metadata": {},
   "outputs": [],
   "source": [
    "# Use the attributes of the parent class\n",
    "house4.sqft"
   ]
  },
  {
   "cell_type": "code",
   "execution_count": null,
   "id": "8b1e56b0",
   "metadata": {},
   "outputs": [],
   "source": [
    "# Use the methods of the parent class\n",
    "house4.price_per_sqft()"
   ]
  },
  {
   "cell_type": "code",
   "execution_count": null,
   "id": "8c95a270",
   "metadata": {},
   "outputs": [],
   "source": [
    "# Use the new instance attribute\n",
    "house4.train_stops"
   ]
  },
  {
   "cell_type": "code",
   "execution_count": null,
   "id": "dac9de03",
   "metadata": {},
   "outputs": [],
   "source": [
    "# Use the new instance method\n",
    "house4.train_expenses()"
   ]
  },
  {
   "cell_type": "markdown",
   "id": "6158dff2",
   "metadata": {},
   "source": [
    "<h3 style=\"color:red; display:inline\">Coding Challenge! &lt; / &gt; </h3>\n",
    "\n",
    "Use the class `Employee` you created as the parent class. Create two child classes, `Accountants` and `Managers`. Add a new instance variable and a new method to each child class. "
   ]
  },
  {
   "cell_type": "code",
   "execution_count": null,
   "id": "f6719f8e",
   "metadata": {},
   "outputs": [],
   "source": []
  },
  {
   "cell_type": "markdown",
   "id": "031fcce1",
   "metadata": {},
   "source": [
    "## Lesson Complete\n",
    "\n",
    "Congratulations! You have completed *Python Intermediate 4*.\n",
    "\n",
    "\n",
    "### Exercise Solutions\n",
    "Here are a few solutions for exercises in this lesson.  "
   ]
  },
  {
   "cell_type": "code",
   "execution_count": null,
   "id": "80624a77",
   "metadata": {},
   "outputs": [],
   "source": [
    "# Create a class Employee\n",
    "class Employee:\n",
    "    def __init__(self, first, last, salary):\n",
    "        self.first = first\n",
    "        self.last = last\n",
    "        self.salary = salary\n",
    "    def full_name(self):\n",
    "        print(self.first + ' ' + self.last)"
   ]
  },
  {
   "cell_type": "code",
   "execution_count": null,
   "id": "1eb9ea38",
   "metadata": {},
   "outputs": [],
   "source": [
    "# Create two objects of the class Employee\n",
    "john = Employee('John', 'Doe', 80000)\n",
    "mary = Employee('Mary', 'Smith', 90000)"
   ]
  },
  {
   "cell_type": "code",
   "execution_count": null,
   "id": "064314e5",
   "metadata": {},
   "outputs": [],
   "source": [
    "# Add a class variable pay_raise\n",
    "class Employee:\n",
    "    pay_raise = 0.05\n",
    "    def __init__(self, first, last, salary):\n",
    "        self.first = first\n",
    "        self.last = last\n",
    "        self.salary = salary\n",
    "    def full_name(self):\n",
    "        print(self.first + ' ' + self.last)\n",
    "    def new_salary(self):\n",
    "        return self.salary * (1 + 0.05)"
   ]
  },
  {
   "cell_type": "code",
   "execution_count": null,
   "id": "0c8b23de",
   "metadata": {},
   "outputs": [],
   "source": [
    "# Calculate John's new salary\n",
    "john = Employee('John', 'Doe', 80000)\n",
    "john.new_salary()"
   ]
  },
  {
   "cell_type": "code",
   "execution_count": null,
   "id": "b011871f",
   "metadata": {},
   "outputs": [],
   "source": [
    "# Create two child classes of Employee\n",
    "class Accountants(Employee):\n",
    "    def __init__(self, first, last, salary, tenure):\n",
    "        super().__init__(first, last, salary)\n",
    "        self.tenure = tenure\n",
    "    def bonus(self):\n",
    "        if self.tenure%10 == 0:\n",
    "            return 10000\n",
    "        else:\n",
    "            return 0\n",
    "\n",
    "        \n",
    "class Managers(Employee):\n",
    "    def __init__(self, first, last, salary, team = None):\n",
    "        super().__init__(first, last, salary)\n",
    "        if team is None:\n",
    "            self.team = []\n",
    "        else:\n",
    "            self.team = team\n",
    "    def team_size(self):\n",
    "        if len(self.team) > 50:\n",
    "            print('Warning: team is too big to be managable.')\n",
    "        else:\n",
    "            print('Team size is managable.')"
   ]
  },
  {
   "cell_type": "code",
   "execution_count": null,
   "id": "c0e950c1",
   "metadata": {},
   "outputs": [],
   "source": [
    "Mary = Managers('Mary', 'Smith', 90000, ['John', 'Bill', 'Roy', 'Sam'])\n",
    "Mary.team_size()"
   ]
  },
  {
   "cell_type": "code",
   "execution_count": null,
   "id": "011fdf67",
   "metadata": {},
   "outputs": [],
   "source": []
  }
 ],
 "metadata": {
  "celltoolbar": "Raw Cell Format",
  "kernelspec": {
   "display_name": "Python 3 (ipykernel)",
   "language": "python",
   "name": "python3"
  },
  "language_info": {
   "codemirror_mode": {
    "name": "ipython",
    "version": 3
   },
   "file_extension": ".py",
   "mimetype": "text/x-python",
   "name": "python",
   "nbconvert_exporter": "python",
   "pygments_lexer": "ipython3",
   "version": "3.10.8"
  },
  "toc": {
   "base_numbering": 1,
   "nav_menu": {},
   "number_sections": true,
   "sideBar": true,
   "skip_h1_title": true,
   "title_cell": "Table of Contents",
   "title_sidebar": "Contents",
   "toc_cell": false,
   "toc_position": {},
   "toc_section_display": true,
   "toc_window_display": false
  }
 },
 "nbformat": 4,
 "nbformat_minor": 5
}
