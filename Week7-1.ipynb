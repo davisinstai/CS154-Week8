{
 "cells": [
  {
   "cell_type": "markdown",
   "id": "0258fa9a",
   "metadata": {
    "editable": true,
    "slideshow": {
     "slide_type": "slide"
    },
    "tags": []
   },
   "source": [
    "# The Key Terms for Wednesday\n",
    "\n",
    "* recursion\n",
    "* binary search"
   ]
  },
  {
   "cell_type": "markdown",
   "id": "32a091ab",
   "metadata": {
    "editable": true,
    "slideshow": {
     "slide_type": "slide"
    },
    "tags": []
   },
   "source": [
    "# Recap - Recursion\n",
    "\n",
    "**Recursion** is actually sometimes the most elegant (readable) way to implement a function.\n",
    "\n",
    "Generally, a problem lends itself to a **recursive** solution if:\n",
    "* There is a simple base case (or cases)\n",
    "* For complex cases, there is a recursive step - something you can do to *reduce* the complex case towards a simple base case"
   ]
  },
  {
   "cell_type": "markdown",
   "id": "d3496ffd",
   "metadata": {
    "editable": true,
    "slideshow": {
     "slide_type": "subslide"
    },
    "tags": []
   },
   "source": [
    "Today we will look at some common NLP problems that have natural recursive solutions. So before we go further, open a terminal and type:\n",
    "\n",
    "% `pip install -r requirements.txt`"
   ]
  },
  {
   "cell_type": "markdown",
   "id": "977f48f9",
   "metadata": {
    "editable": true,
    "slideshow": {
     "slide_type": "subslide"
    },
    "tags": []
   },
   "source": [
    "# Search\n",
    "\n",
    "Let's say we wanted to find the token closest to a given character position, in a list of tokens.\n",
    "\n",
    "For example, consider the document below:"
   ]
  },
  {
   "cell_type": "code",
   "execution_count": 4,
   "id": "96114021",
   "metadata": {},
   "outputs": [],
   "source": [
    "import spacy\n",
    "\n",
    "# create a spaCy engine\n",
    "nlp = spacy.load('en_core_web_sm')\n",
    "\n",
    "# make a document from https://www.maine.gov/dacf/mfs/projects/fall_foliage/whenandwhere/index.html\n",
    "doc = nlp('Maine\\'s state parks, mountains, farms and coast provide wonderful settings for fall leaf peeping. Generally northern Maine is at or near peak conditions the last week of September into the first week of October. Central, and western mountains of Maine are at or near peak Indigenous Peoples\\' Day week/weekend. Coastal and southern Maine generally reach peak or near peak conditions mid-to-last October.')\n",
    "\n",
    "# make a list of tokens\n",
    "tokens = [x for x in doc]"
   ]
  },
  {
   "cell_type": "markdown",
   "id": "f064e33c",
   "metadata": {},
   "source": [
    "Let's say wanted to find the token closest to the character position 35.\n",
    "\n",
    "Finding is *search*. \n",
    "\n",
    "We can use built in functions to search for a substring in a string, or a text element in a list of strings. *What are those functions?* \n",
    "\n",
    "But those functions won't help us here.\n",
    "\n",
    "Let's write a function, `find_linear_iterative`, which looks for the token closest to a given index. Replace `pass` in the code below. Use `token.idx` to get the index of the start of the token."
   ]
  },
  {
   "cell_type": "code",
   "execution_count": 6,
   "id": "d14a7572",
   "metadata": {},
   "outputs": [
    {
     "data": {
      "text/plain": [
       "and"
      ]
     },
     "execution_count": 6,
     "metadata": {},
     "output_type": "execute_result"
    }
   ],
   "source": [
    "def find_ilinear_iterative(token_list, index):\n",
    "    \"\"\" \n",
    "    finds a token or entity whose text matches the input. \n",
    "\n",
    "    :param token_list: a list of tokens\n",
    "    :type token_list: list\n",
    "    :param index: the index we are looking to find the closest token to\n",
    "    :type index: int\n",
    "    :returns: a token\n",
    "    :rtype: token\n",
    "    \"\"\"\n",
    "    pass\n",
    "\n",
    "\n",
    "# find the token closest to index 35\n",
    "find_linear_iterative(tokens, 35)\n"
   ]
  },
  {
   "cell_type": "markdown",
   "id": "36b4972d",
   "metadata": {},
   "source": [
    "We call this **linear search** because it goes in order over the list to be searched.\n",
    "\n",
    "*Can you write this **linear search** function as a recursive function?*"
   ]
  },
  {
   "cell_type": "code",
   "execution_count": null,
   "id": "248bf78e",
   "metadata": {},
   "outputs": [],
   "source": [
    "def find_linear_recursive(token_list, index):\n",
    "    \"\"\" \n",
    "    finds a token or entity whose text matches the input. \n",
    "\n",
    "    :param token_list: a list of tokens\n",
    "    :type token_list: list\n",
    "    :param index: the index we are looking to find the closest token to\n",
    "    :type index: int\n",
    "    :returns: a token\n",
    "    :rtype: token\n",
    "    \"\"\"\n",
    "    pass\n",
    "\n",
    "\n",
    "# find the token closest to index 35\n",
    "find_linear_recursive(tokens, 35)"
   ]
  },
  {
   "cell_type": "markdown",
   "id": "610fec87",
   "metadata": {},
   "source": [
    "# Binary Search\n",
    "\n",
    "Now that's a fine, easy to read search function. But it's not very *efficient*. We have to look at every single token! \n",
    "\n",
    "We can use recursion to do this more efficiently (looking at fewer tokens). The method we will use is **binary search**.\n",
    "\n",
    "Run the code below, after adding print statements so you can see what is going on. *Or*, run it in debug mode.\n",
    "\n",
    "How many fewer tokens do we look at with this code when the index is:\n",
    "* 35\n",
    "* 103\n",
    "* 200\n"
   ]
  },
  {
   "cell_type": "code",
   "execution_count": 25,
   "id": "913efa53",
   "metadata": {},
   "outputs": [
    {
     "name": "stdout",
     "output_type": "stream",
     "text": [
      "of\n"
     ]
    }
   ],
   "source": [
    "def find_binary_recursive(token_list, low, high, index):\n",
    "    \"\"\" \n",
    "    finds a token or entity whose text matches the input. This code comes from https://www.geeksforgeeks.org/python-program-for-binary-search/\n",
    "\n",
    "    :param token_list: a list of tokens\n",
    "    :type token_list: list\n",
    "    :param low: the low point in the list to look at \n",
    "    :type low: int\n",
    "    :param high: the high point in the list to look at\n",
    "    :type high: int\n",
    "    :param index: the index we are looking to find the closest token to\n",
    "    :type index: int\n",
    "    :returns: a token\n",
    "    :rtype: token\n",
    "    \"\"\"\n",
    "    # Check base case\n",
    "    if high >= low:\n",
    " \n",
    "        mid = (high + low) // 2\n",
    "\n",
    "        # If element is present at the middle itself\n",
    "        if token_list[mid].idx <= index and (token_list[mid].idx+len(token_list[mid].text)) >= index:\n",
    "            return token_list[mid]\n",
    " \n",
    "        # If element is smaller than mid, then it can only\n",
    "        # be present in left subarray\n",
    "        elif token_list[mid].idx  > index:\n",
    "            return find_binary_recursive(token_list, low, mid - 1, index)\n",
    " \n",
    "        # Else the element can only be present in right subarray\n",
    "        else:\n",
    "            return find_binary_recursive(token_list, mid + 1, high, index)\n",
    " \n",
    "    else:\n",
    "        # Element is not present in the array\n",
    "        return None\n",
    "    \n",
    "# find the token closest to index 35\n",
    "print(find_binary_recursive(tokens, 0, len(tokens), 35))"
   ]
  },
  {
   "cell_type": "markdown",
   "id": "2a227802",
   "metadata": {},
   "source": [
    "Here's the tricky thing: a recursive solution may not be the most efficient implementation of binary search.\n",
    "\n",
    "Here's an iterative solution. As before, use debugging or print statements to understand the code.\n",
    "\n",
    "Test for yourself that this one takes the same number of steps as the recursive solution for indexes:\n",
    "* 35\n",
    "* 103\n",
    "* 200"
   ]
  },
  {
   "cell_type": "code",
   "execution_count": 11,
   "id": "6e7c5542",
   "metadata": {},
   "outputs": [
    {
     "name": "stdout",
     "output_type": "stream",
     "text": [
      "of\n"
     ]
    }
   ],
   "source": [
    "\n",
    "def find_binary_iterative(token_list, index):\n",
    "    \"\"\" \n",
    "    finds a token or entity whose text matches the input. This code comes from https://www.geeksforgeeks.org/python-program-for-binary-search/\n",
    "\n",
    "    :param token_list: a list of tokens\n",
    "    :type token_list: list\n",
    "    :param index: the index we are looking to find the closest token to\n",
    "    :type index: int\n",
    "    :returns: a token\n",
    "    :rtype: token\n",
    "    \"\"\"\n",
    "    low = 0\n",
    "    high = len(token_list) - 1\n",
    "    mid = 0\n",
    " \n",
    "    while low <= high:\n",
    " \n",
    "        mid = (high + low) // 2\n",
    " \n",
    "        # If x is at mid, return it\n",
    "        if token_list[mid].idx <= index and (token_list[mid].idx+len(token_list[mid].text)) >= index:\n",
    "            return token_list[mid]\n",
    "        \n",
    " \n",
    "        # If x is smaller, ignore right half\n",
    "        elif token_list[mid].idx > index:\n",
    "            high = mid - 1\n",
    " \n",
    "        # If x is greater, ignore left half\n",
    "        else:\n",
    "            low = mid + 1\n",
    " \n",
    "    # If we reach here, then the element was not present\n",
    "    return None\n",
    "\n",
    "# find the token closest to index 35\n",
    "print(find_binary_iterative(tokens, 35))"
   ]
  },
  {
   "cell_type": "markdown",
   "id": "def6b23c",
   "metadata": {},
   "source": [
    "Now we can use the function `%timeit` to figure out the most efficient search implementation from these four for the inputs:\n",
    "* 35\n",
    "* 103\n",
    "* 200\n"
   ]
  },
  {
   "cell_type": "code",
   "execution_count": null,
   "id": "418f2cbd",
   "metadata": {},
   "outputs": [],
   "source": [
    "%timeit find_binary_iterative(tokens, 35)"
   ]
  }
 ],
 "metadata": {
  "kernelspec": {
   "display_name": "Python 3 (ipykernel)",
   "language": "python",
   "name": "python3"
  },
  "language_info": {
   "codemirror_mode": {
    "name": "ipython",
    "version": 3
   },
   "file_extension": ".py",
   "mimetype": "text/x-python",
   "name": "python",
   "nbconvert_exporter": "python",
   "pygments_lexer": "ipython3",
   "version": "3.10.8"
  },
  "toc": {
   "base_numbering": 1,
   "nav_menu": {},
   "number_sections": true,
   "sideBar": true,
   "skip_h1_title": true,
   "title_cell": "Table of Contents",
   "title_sidebar": "Contents",
   "toc_cell": false,
   "toc_position": {
    "height": "calc(100% - 180px)",
    "left": "10px",
    "top": "150px",
    "width": "165px"
   },
   "toc_section_display": true,
   "toc_window_display": false
  }
 },
 "nbformat": 4,
 "nbformat_minor": 5
}
