{
 "cells": [
  {
   "cell_type": "markdown",
   "id": "b1488c85",
   "metadata": {
    "editable": true,
    "slideshow": {
     "slide_type": "slide"
    },
    "tags": []
   },
   "source": [
    "# The Key Terms for Monday\n",
    "\n",
    "* recursion\n",
    "* trees"
   ]
  },
  {
   "cell_type": "markdown",
   "id": "e09d8c13",
   "metadata": {
    "editable": true,
    "slideshow": {
     "slide_type": "subslide"
    },
    "tags": []
   },
   "source": [
    "# Recap - Recursion\n",
    "\n",
    "**Recursion** is actually sometimes the most elegant (readable) way to implement a function.\n",
    "\n",
    "Generally, a problem lends itself to a **recursive** solution if:\n",
    "* There is a simple base case (or cases)\n",
    "* For complex cases, there is a recursive step - something you can do to *reduce* the complex case towards a simple base case"
   ]
  },
  {
   "cell_type": "markdown",
   "id": "9b36803d",
   "metadata": {
    "editable": true,
    "slideshow": {
     "slide_type": "subslide"
    },
    "tags": []
   },
   "source": [
    "Once you start thinking in terms of recursion, you will see it all around you! Here are some examples."
   ]
  },
  {
   "cell_type": "markdown",
   "id": "cab7aeea-ea3a-4f70-a121-ad3005e6f5eb",
   "metadata": {
    "editable": true,
    "slideshow": {
     "slide_type": "subslide"
    },
    "tags": []
   },
   "source": [
    "Recursion is known in nature:\n",
    "\n",
    "![image.png](https://upload.wikimedia.org/wikipedia/commons/thumb/5/5e/Romanesco_broccoli_%28Brassica_oleracea%29.jpg/480px-Romanesco_broccoli_%28Brassica_oleracea%29.jpg)\n",
    "\n",
    "(Image source: Wikidata)"
   ]
  },
  {
   "cell_type": "markdown",
   "id": "a51c5d1a-acea-4135-8b39-6dc7eae92cb0",
   "metadata": {
    "editable": true,
    "slideshow": {
     "slide_type": "subslide"
    },
    "tags": []
   },
   "source": [
    "And in art:\n",
    "\n",
    "![recursion image](https://live.staticflickr.com/91/279433682_23ac618518_b.jpg)\n",
    "\n",
    "(Image source: https://www.flickr.com/photos/gadl/)"
   ]
  },
  {
   "cell_type": "markdown",
   "id": "7a9bd603-50d8-495a-9421-074efdab6574",
   "metadata": {
    "editable": true,
    "slideshow": {
     "slide_type": "subslide"
    },
    "tags": []
   },
   "source": [
    "And if you have ever written an *inductive proof*, recursion will look familiar."
   ]
  },
  {
   "cell_type": "markdown",
   "id": "4a8ebae4",
   "metadata": {
    "editable": true,
    "slideshow": {
     "slide_type": "slide"
    },
    "tags": []
   },
   "source": [
    "## Recursion Example 3: Descending a Tree\n",
    "\n",
    "How many of you climbed trees as children? If you did, you know that to get up (or down) a tree, you first find and ascend (descend) the next limb, then you go up (or down) the rest of the tree! This is a recursive definition for tree climbing."
   ]
  },
  {
   "cell_type": "markdown",
   "id": "847bbab0-c5d3-4f07-8d63-e0d60e081b3f",
   "metadata": {
    "editable": true,
    "slideshow": {
     "slide_type": "subslide"
    },
    "tags": []
   },
   "source": [
    "In computer science, there is a **data structure** called a **tree**. A tree consists of **nodes**. A node might be an *internal node* (which has children) or a *leaf node* (no children!). The node that is not a child of any other node is the **root node** of the tree. \n",
    "\n",
    "![a tree](https://i.ytimg.com/vi/9uA0y_rvSC0/maxresdefault.jpg)\n",
    "\n",
    "(Image source: https://www.youtube.com/watch?v=9uA0y_rvSC0)"
   ]
  },
  {
   "cell_type": "markdown",
   "id": "6d4cfff2-768f-4199-b69a-9c33c3cc6859",
   "metadata": {
    "editable": true,
    "slideshow": {
     "slide_type": "subslide"
    },
    "tags": []
   },
   "source": [
    "Navigating a tree data structure involves:\n",
    "\n",
    "* a simple base case - a leaf node; do whatever you want to do to it\n",
    "* a step to reduce a complex case (an internal node) toward the base case: do whatever you want to do to this node, then navigate each of the child nodes\n"
   ]
  },
  {
   "cell_type": "markdown",
   "id": "be1f3a63",
   "metadata": {
    "editable": true,
    "slideshow": {
     "slide_type": "subslide"
    },
    "tags": []
   },
   "source": [
    "Let's define a tree where each node contains a string (its name). We will use a dictionary of dictionaries to do this.\n",
    "\n",
    "On a piece of paper, draw this tree. Put the node names inside the nodes."
   ]
  },
  {
   "cell_type": "code",
   "execution_count": 2,
   "id": "1399fd3f",
   "metadata": {
    "editable": true,
    "slideshow": {
     "slide_type": "fragment"
    },
    "tags": []
   },
   "outputs": [],
   "source": [
    "# define a tree\n",
    "my_tree = {'0': {'1': {'2': {'3': {}}, '4': {}}}, '5': {'6': {}, '7': {}}}"
   ]
  },
  {
   "cell_type": "markdown",
   "id": "f92134df",
   "metadata": {
    "editable": true,
    "slideshow": {
     "slide_type": "subslide"
    },
    "tags": []
   },
   "source": [
    "Now, define a function `navigate` that takes a parameter `node` (a dictionary) and recursively walks down the subtree rooted at the node."
   ]
  },
  {
   "cell_type": "code",
   "execution_count": 3,
   "id": "5aabfd3b",
   "metadata": {
    "editable": true,
    "slideshow": {
     "slide_type": "fragment"
    },
    "tags": []
   },
   "outputs": [],
   "source": [
    "# define navigate\n"
   ]
  },
  {
   "cell_type": "markdown",
   "id": "3b5b882e",
   "metadata": {
    "editable": true,
    "slideshow": {
     "slide_type": "subslide"
    },
    "tags": []
   },
   "source": [
    "Tomorrow, we will see an example where recursion is useful in NLP!"
   ]
  }
 ],
 "metadata": {
  "kernelspec": {
   "display_name": "Python 3 (ipykernel)",
   "language": "python",
   "name": "python3"
  },
  "language_info": {
   "codemirror_mode": {
    "name": "ipython",
    "version": 3
   },
   "file_extension": ".py",
   "mimetype": "text/x-python",
   "name": "python",
   "nbconvert_exporter": "python",
   "pygments_lexer": "ipython3",
   "version": "3.10.8"
  }
 },
 "nbformat": 4,
 "nbformat_minor": 5
}
